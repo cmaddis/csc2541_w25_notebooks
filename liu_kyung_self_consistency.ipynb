{
  "nbformat": 4,
  "nbformat_minor": 0,
  "metadata": {
    "colab": {
      "provenance": []
    },
    "kernelspec": {
      "name": "python3",
      "display_name": "Python 3"
    },
    "language_info": {
      "name": "python"
    }
  },
  "cells": [
    {
      "cell_type": "markdown",
      "source": [
        "# Self-Consistency\n",
        "\n",
        "This notebook illustrates the key idea from the paper [Self-Consistency Improves Chain of Thought Reasoning in Language Models](https://arxiv.org/pdf/2203.11171) (Wang et al., 2023), which, as the title suggests, is how self-consistency decoding improves accuracy in reasoning tasks over regular chain-of-thought prompting with greedy decoding.\n",
        "\n",
        "Additionally, we compare one-shot self-consistency with few-shot chain-of-thought as an original experiment."
      ],
      "metadata": {
        "id": "1TnMZGij4BKC"
      }
    },
    {
      "cell_type": "markdown",
      "source": [
        "## Installing dependencies and setting up the API calls"
      ],
      "metadata": {
        "id": "Hl7xomRlLuO0"
      }
    },
    {
      "cell_type": "code",
      "source": [
        "!pip install datasets"
      ],
      "metadata": {
        "colab": {
          "base_uri": "https://localhost:8080/"
        },
        "id": "nkHK_WSf1hhI",
        "outputId": "2a7898a4-cb62-4d03-bbe3-2b9b825efa0c"
      },
      "execution_count": 33,
      "outputs": [
        {
          "output_type": "stream",
          "name": "stdout",
          "text": [
            "Requirement already satisfied: datasets in /usr/local/lib/python3.11/dist-packages (3.2.0)\n",
            "Requirement already satisfied: filelock in /usr/local/lib/python3.11/dist-packages (from datasets) (3.17.0)\n",
            "Requirement already satisfied: numpy>=1.17 in /usr/local/lib/python3.11/dist-packages (from datasets) (1.26.4)\n",
            "Requirement already satisfied: pyarrow>=15.0.0 in /usr/local/lib/python3.11/dist-packages (from datasets) (17.0.0)\n",
            "Requirement already satisfied: dill<0.3.9,>=0.3.0 in /usr/local/lib/python3.11/dist-packages (from datasets) (0.3.8)\n",
            "Requirement already satisfied: pandas in /usr/local/lib/python3.11/dist-packages (from datasets) (2.2.2)\n",
            "Requirement already satisfied: requests>=2.32.2 in /usr/local/lib/python3.11/dist-packages (from datasets) (2.32.3)\n",
            "Requirement already satisfied: tqdm>=4.66.3 in /usr/local/lib/python3.11/dist-packages (from datasets) (4.67.1)\n",
            "Requirement already satisfied: xxhash in /usr/local/lib/python3.11/dist-packages (from datasets) (3.5.0)\n",
            "Requirement already satisfied: multiprocess<0.70.17 in /usr/local/lib/python3.11/dist-packages (from datasets) (0.70.16)\n",
            "Requirement already satisfied: fsspec<=2024.9.0,>=2023.1.0 in /usr/local/lib/python3.11/dist-packages (from fsspec[http]<=2024.9.0,>=2023.1.0->datasets) (2024.9.0)\n",
            "Requirement already satisfied: aiohttp in /usr/local/lib/python3.11/dist-packages (from datasets) (3.11.11)\n",
            "Requirement already satisfied: huggingface-hub>=0.23.0 in /usr/local/lib/python3.11/dist-packages (from datasets) (0.28.1)\n",
            "Requirement already satisfied: packaging in /usr/local/lib/python3.11/dist-packages (from datasets) (24.2)\n",
            "Requirement already satisfied: pyyaml>=5.1 in /usr/local/lib/python3.11/dist-packages (from datasets) (6.0.2)\n",
            "Requirement already satisfied: aiohappyeyeballs>=2.3.0 in /usr/local/lib/python3.11/dist-packages (from aiohttp->datasets) (2.4.4)\n",
            "Requirement already satisfied: aiosignal>=1.1.2 in /usr/local/lib/python3.11/dist-packages (from aiohttp->datasets) (1.3.2)\n",
            "Requirement already satisfied: attrs>=17.3.0 in /usr/local/lib/python3.11/dist-packages (from aiohttp->datasets) (25.1.0)\n",
            "Requirement already satisfied: frozenlist>=1.1.1 in /usr/local/lib/python3.11/dist-packages (from aiohttp->datasets) (1.5.0)\n",
            "Requirement already satisfied: multidict<7.0,>=4.5 in /usr/local/lib/python3.11/dist-packages (from aiohttp->datasets) (6.1.0)\n",
            "Requirement already satisfied: propcache>=0.2.0 in /usr/local/lib/python3.11/dist-packages (from aiohttp->datasets) (0.2.1)\n",
            "Requirement already satisfied: yarl<2.0,>=1.17.0 in /usr/local/lib/python3.11/dist-packages (from aiohttp->datasets) (1.18.3)\n",
            "Requirement already satisfied: typing-extensions>=3.7.4.3 in /usr/local/lib/python3.11/dist-packages (from huggingface-hub>=0.23.0->datasets) (4.12.2)\n",
            "Requirement already satisfied: charset-normalizer<4,>=2 in /usr/local/lib/python3.11/dist-packages (from requests>=2.32.2->datasets) (3.4.1)\n",
            "Requirement already satisfied: idna<4,>=2.5 in /usr/local/lib/python3.11/dist-packages (from requests>=2.32.2->datasets) (3.10)\n",
            "Requirement already satisfied: urllib3<3,>=1.21.1 in /usr/local/lib/python3.11/dist-packages (from requests>=2.32.2->datasets) (2.3.0)\n",
            "Requirement already satisfied: certifi>=2017.4.17 in /usr/local/lib/python3.11/dist-packages (from requests>=2.32.2->datasets) (2025.1.31)\n",
            "Requirement already satisfied: python-dateutil>=2.8.2 in /usr/local/lib/python3.11/dist-packages (from pandas->datasets) (2.8.2)\n",
            "Requirement already satisfied: pytz>=2020.1 in /usr/local/lib/python3.11/dist-packages (from pandas->datasets) (2025.1)\n",
            "Requirement already satisfied: tzdata>=2022.7 in /usr/local/lib/python3.11/dist-packages (from pandas->datasets) (2025.1)\n",
            "Requirement already satisfied: six>=1.5 in /usr/local/lib/python3.11/dist-packages (from python-dateutil>=2.8.2->pandas->datasets) (1.17.0)\n"
          ]
        }
      ]
    },
    {
      "cell_type": "code",
      "execution_count": 34,
      "metadata": {
        "id": "06TUPT0GLa51"
      },
      "outputs": [],
      "source": [
        "import concurrent.futures\n",
        "import random\n",
        "import requests\n",
        "import time\n",
        "import matplotlib.pyplot as plt\n",
        "import datasets\n",
        "from collections import defaultdict\n",
        "from tqdm import tqdm\n",
        "\n",
        "# Your Hugging Face API token\n",
        "API_TOKEN = \"\"\n",
        "\n",
        "# Specify the model ID\n",
        "MODEL_ID = \"bigscience/bloom\"\n",
        "\n",
        "# API endpoint\n",
        "API_URL = f\"https://api-inference.huggingface.co/models/{MODEL_ID}\"\n",
        "\n",
        "# Headers for authentication\n",
        "headers = {\"Authorization\": f\"Bearer {API_TOKEN}\"}"
      ]
    },
    {
      "cell_type": "markdown",
      "source": [
        "## Functions for Decoding"
      ],
      "metadata": {
        "id": "_fz4JclXLtHE"
      }
    },
    {
      "cell_type": "code",
      "source": [
        "RETRIES = 5\n",
        "TIMEOUT = 10\n",
        "\n",
        "def greedy_decode(prompt):\n",
        "    input = {\n",
        "        \"inputs\": prompt,\n",
        "        \"parameters\": {\n",
        "            \"max_new_tokens\": 500,\n",
        "            \"temperature\": 0.01, # temperature 0 is not allowed, so just set to a small value\n",
        "            \"seed\": random.randint(0, 2**32 - 1),\n",
        "            \"stop\": [\"\\nQ:\"], # don't let model generate new questions\n",
        "        }\n",
        "    }\n",
        "\n",
        "    retries = 0\n",
        "    response = None\n",
        "    while retries < RETRIES and response is None:\n",
        "        response = requests.post(API_URL, headers=headers, json=input)\n",
        "\n",
        "        if response.status_code == 200:\n",
        "            return response.json()[0][\"generated_text\"].removesuffix(\"\\nQ:\")\n",
        "        else:\n",
        "            retries += 1\n",
        "            print(f\"Error {response.status_code}: {response.text}\")\n",
        "            time.sleep(TIMEOUT)\n",
        "\n",
        "\n",
        "def sampled_decode(prompt):\n",
        "    input = {\n",
        "        \"inputs\": prompt,\n",
        "        \"parameters\": {\n",
        "            \"max_new_tokens\": 500,\n",
        "            \"temperature\": 0.8,\n",
        "            \"top_k\": 40,\n",
        "            \"top_p\": 0.95,\n",
        "            \"seed\": random.randint(0, 2**32 - 1),\n",
        "            \"stop\": [\"\\nQ:\"], # don't let model generate new questions\n",
        "        }\n",
        "    }\n",
        "\n",
        "    retries = 0\n",
        "    response = None\n",
        "\n",
        "    while retries < RETRIES and response is None:\n",
        "        response = requests.post(API_URL, headers=headers, json=input)\n",
        "\n",
        "        if response.status_code == 200:\n",
        "            return response.json()[0][\"generated_text\"].removesuffix(\"\\nQ:\")\n",
        "        else:\n",
        "            retries += 1\n",
        "            print(f\"Error {response.status_code}: {response.text}\")\n",
        "            time.sleep(TIMEOUT)\n",
        "\n",
        "\n",
        "def self_consistency_decode(prompt, n_paths, parallelize=False):\n",
        "    answers = []\n",
        "    cutoff = len(prompt)\n",
        "\n",
        "    if parallelize:\n",
        "        with concurrent.futures.ThreadPoolExecutor() as executor:\n",
        "            futures = [executor.submit(sampled_decode, prompt) for _ in range(n_paths)]\n",
        "            for future in concurrent.futures.as_completed(futures):\n",
        "                response = future.result()\n",
        "                answer = extract_answer(response[cutoff:])\n",
        "                answers.append(answer)\n",
        "    else:\n",
        "        for _ in range(n_paths):\n",
        "            response = sampled_decode(prompt)\n",
        "            answer = extract_answer(response[cutoff:])\n",
        "            answers.append(answer)\n",
        "\n",
        "    return answers\n",
        "\n",
        "\n",
        "def extract_answer(answer):\n",
        "    if \"(a\" in answer:\n",
        "        return \"A\"\n",
        "    if \"(b\" in answer:\n",
        "        return \"B\"\n",
        "    if \"(c\" in answer:\n",
        "        return \"C\"\n",
        "    if \"(d\" in answer:\n",
        "        return \"D\"\n",
        "    if \"(e\" in answer:\n",
        "        return \"E\"\n",
        "\n",
        "\n",
        "def marginalize_answer_counts(answers):\n",
        "    answer_counts = defaultdict(int)\n",
        "    for answer in answers:\n",
        "        if answer is not None:\n",
        "            answer_counts[answer] += 1\n",
        "    final_answer = max(answer_counts, key=answer_counts.get)\n",
        "    return final_answer"
      ],
      "metadata": {
        "id": "X38i0c1aL9rr"
      },
      "execution_count": 35,
      "outputs": []
    },
    {
      "cell_type": "markdown",
      "source": [
        "## Setting up Datasets\n",
        "\n",
        "We take examples from the CSQA (Common Sense QA) dataset to run our demonstrative toy experiments.\n",
        "\n",
        "We use the validation split as in the original paper, and enforce the answer format via exemplars."
      ],
      "metadata": {
        "id": "hd-aKv_ENBTs"
      }
    },
    {
      "cell_type": "code",
      "source": [
        "CoT_prompts = [\n",
        "    \"Task: Answer the multiple choice question by first thinking through the question and then concluding with 'So the answer is x' where x is one of (a) (b) (c) (d) or (e)\",\n",
        "    \"Q: What do people use to absorb extra ink from a fountain pen? Answer Choices: (a) shirt pocket (b) calligrapher’s hand (c) inkwell (d) desk drawer (e) blotter\\nA: The answer must be an item that can absorb ink. Of the above choices, only blotters are used to absorb ink. So the answer is (e).\",\n",
        "    \"Q: What home entertainment equipment requires cable? Answer Choices: (a) radio shack (b) substation (c) television (d) cabinet\\nA: The answer must require cable. Of the above choices, only television requires cable. So the answer is (c).\",\n",
        "    \"Q: The fox walked from the city into the forest, what was it looking for? Answer Choices: (a) pretty flowers (b) hen house (c) natural habitat (d) storybook\\nA: The answer must be something in the forest. Of the above choices, only natural habitat is in the forest. So the answer is (b).\",\n",
        "]\n",
        "CoT_prompt = \"\\n\".join(CoT_prompts)"
      ],
      "metadata": {
        "id": "OUzSmOkSNAn7"
      },
      "execution_count": 36,
      "outputs": []
    },
    {
      "cell_type": "code",
      "source": [
        "dataset = datasets.load_dataset(\"tau/commonsense_qa\")['validation']"
      ],
      "metadata": {
        "id": "RGKB_N_b1WpE"
      },
      "execution_count": 37,
      "outputs": []
    },
    {
      "cell_type": "code",
      "source": [
        "questions = []\n",
        "answers = []\n",
        "\n",
        "for i in range(100):\n",
        "  template = \"Q: [question] Answer Choices: (a) [choice_A] (b) [choice_B] (c) [choice_C] (d) [choice_D] (e) [choice_E]\"\n",
        "  question = template.replace(\"[question]\", dataset['question'][i]).replace(\"[choice_A]\", dataset['choices'][i]['text'][0]).replace(\"[choice_B]\", dataset['choices'][i]['text'][1]).replace(\"[choice_C]\", dataset['choices'][i]['text'][2]).replace(\"[choice_D]\", dataset['choices'][i]['text'][3]).replace(\"[choice_E]\", dataset['choices'][i]['text'][4])\n",
        "  questions.append(question)\n",
        "  answers.append(dataset['answerKey'][i])"
      ],
      "metadata": {
        "id": "m6Fbo0K52ALf"
      },
      "execution_count": 38,
      "outputs": []
    },
    {
      "cell_type": "code",
      "source": [
        "print(questions[0])\n",
        "print(answers[0])"
      ],
      "metadata": {
        "colab": {
          "base_uri": "https://localhost:8080/"
        },
        "id": "J2uxpGAFpzqv",
        "outputId": "e4dfd937-5e78-4655-b909-13cfac116fc3"
      },
      "execution_count": 39,
      "outputs": [
        {
          "output_type": "stream",
          "name": "stdout",
          "text": [
            "Q: A revolving door is convenient for two direction travel, but it also serves as a security measure at a what? Answer Choices: (a) bank (b) library (c) department store (d) mall (e) new york\n",
            "A\n"
          ]
        }
      ]
    },
    {
      "cell_type": "markdown",
      "source": [
        "### Greedy / sampled decoding demo"
      ],
      "metadata": {
        "id": "zPKrqrl_rvl4"
      }
    },
    {
      "cell_type": "code",
      "source": [
        "prompt = CoT_prompt + \"\\n\" + questions[0] + \"\\nA: \"\n",
        "cutoff = len(prompt) # the original prompt is prepended to the response, so only extract the newly generated portion"
      ],
      "metadata": {
        "id": "xg1Eff8VNMw4"
      },
      "execution_count": 40,
      "outputs": []
    },
    {
      "cell_type": "code",
      "source": [
        "prompt"
      ],
      "metadata": {
        "colab": {
          "base_uri": "https://localhost:8080/",
          "height": 105
        },
        "id": "fadUxUrKXW2m",
        "outputId": "5448c27f-cdd3-4b4f-bdc0-a3290ae1852e"
      },
      "execution_count": 41,
      "outputs": [
        {
          "output_type": "execute_result",
          "data": {
            "text/plain": [
              "\"Task: Answer the multiple choice question by first thinking through the question and then concluding with 'So the answer is x' where x is one of (a) (b) (c) (d) or (e)\\nQ: What do people use to absorb extra ink from a fountain pen? Answer Choices: (a) shirt pocket (b) calligrapher’s hand (c) inkwell (d) desk drawer (e) blotter\\nA: The answer must be an item that can absorb ink. Of the above choices, only blotters are used to absorb ink. So the answer is (e).\\nQ: What home entertainment equipment requires cable? Answer Choices: (a) radio shack (b) substation (c) television (d) cabinet\\nA: The answer must require cable. Of the above choices, only television requires cable. So the answer is (c).\\nQ: The fox walked from the city into the forest, what was it looking for? Answer Choices: (a) pretty flowers (b) hen house (c) natural habitat (d) storybook\\nA: The answer must be something in the forest. Of the above choices, only natural habitat is in the forest. So the answer is (b).\\nQ: A revolving door is convenient for two direction travel, but it also serves as a security measure at a what? Answer Choices: (a) bank (b) library (c) department store (d) mall (e) new york\\nA: \""
            ],
            "application/vnd.google.colaboratory.intrinsic+json": {
              "type": "string"
            }
          },
          "metadata": {},
          "execution_count": 41
        }
      ]
    },
    {
      "cell_type": "markdown",
      "source": [
        "Greedy"
      ],
      "metadata": {
        "id": "7mM8FsOof9Qe"
      }
    },
    {
      "cell_type": "code",
      "source": [
        "greedy_result = greedy_decode(prompt)\n",
        "print(greedy_result[cutoff:])"
      ],
      "metadata": {
        "colab": {
          "base_uri": "https://localhost:8080/"
        },
        "id": "10yjfl5PWCUl",
        "outputId": "5b977f87-ec4f-4ffb-c318-60e21430d80d"
      },
      "execution_count": 42,
      "outputs": [
        {
          "output_type": "stream",
          "name": "stdout",
          "text": [
            " The answer must be a building. Of the above choices, only a bank has a revolving door. So the answer is (a).\n"
          ]
        }
      ]
    },
    {
      "cell_type": "code",
      "source": [
        "extract_answer(greedy_result[cutoff:])"
      ],
      "metadata": {
        "colab": {
          "base_uri": "https://localhost:8080/",
          "height": 35
        },
        "id": "Tc2PDTm6ffDp",
        "outputId": "a75f0863-c7ad-491e-8f55-cc21038b5928"
      },
      "execution_count": 43,
      "outputs": [
        {
          "output_type": "execute_result",
          "data": {
            "text/plain": [
              "'A'"
            ],
            "application/vnd.google.colaboratory.intrinsic+json": {
              "type": "string"
            }
          },
          "metadata": {},
          "execution_count": 43
        }
      ]
    },
    {
      "cell_type": "markdown",
      "source": [
        "Sampled"
      ],
      "metadata": {
        "id": "bd2-vJCUgF7W"
      }
    },
    {
      "cell_type": "code",
      "source": [
        "sampled_result = sampled_decode(prompt)\n",
        "print(sampled_result[cutoff:])"
      ],
      "metadata": {
        "colab": {
          "base_uri": "https://localhost:8080/"
        },
        "id": "Q-HjJuk5aSSe",
        "outputId": "fb6ff6a6-108f-4bf4-8885-2fd8706b4b20"
      },
      "execution_count": 44,
      "outputs": [
        {
          "output_type": "stream",
          "name": "stdout",
          "text": [
            " The answer must be a building that serves people. Of the above choices, only library serves people. So the answer is (b).\n"
          ]
        }
      ]
    },
    {
      "cell_type": "code",
      "source": [
        "extract_answer(sampled_result[cutoff:])"
      ],
      "metadata": {
        "colab": {
          "base_uri": "https://localhost:8080/",
          "height": 35
        },
        "id": "DEaeFPcSflOy",
        "outputId": "984be92c-0cfb-46e7-eeeb-f7657eca48ac"
      },
      "execution_count": 45,
      "outputs": [
        {
          "output_type": "execute_result",
          "data": {
            "text/plain": [
              "'B'"
            ],
            "application/vnd.google.colaboratory.intrinsic+json": {
              "type": "string"
            }
          },
          "metadata": {},
          "execution_count": 45
        }
      ]
    },
    {
      "cell_type": "markdown",
      "source": [
        "## Running our experiments"
      ],
      "metadata": {
        "id": "tIX4jwgIV1Mp"
      }
    },
    {
      "cell_type": "code",
      "source": [
        "max_reasoning_paths = 40\n",
        "self_consistency_answers = []\n",
        "greedy_answers = []\n",
        "\n",
        "for question in tqdm(questions):\n",
        "    prompt = CoT_prompt + \"\\n\" + question + \"\\nA: \"\n",
        "    cutoff = len(prompt)\n",
        "\n",
        "    while True:\n",
        "        try:\n",
        "            greedy_result = greedy_decode(prompt)\n",
        "            greedy_answers.append(extract_answer(greedy_result[cutoff:]))\n",
        "            break\n",
        "        except TypeError:\n",
        "            time.sleep(30)\n",
        "\n",
        "    while True:\n",
        "        try:\n",
        "            self_consistency_result = self_consistency_decode(prompt, max_reasoning_paths, parallelize=True)\n",
        "            self_consistency_answers.append(self_consistency_result)\n",
        "            break\n",
        "        except TypeError:\n",
        "            time.sleep(30)\n",
        "    time.sleep(random.randint(0,3))\n"
      ],
      "metadata": {
        "id": "JiIFNdHkjRQw",
        "colab": {
          "base_uri": "https://localhost:8080/"
        },
        "outputId": "efc53abc-ebfd-4fde-cc17-1e5226fadaf1"
      },
      "execution_count": 46,
      "outputs": [
        {
          "output_type": "stream",
          "name": "stderr",
          "text": [
            " 36%|███▌      | 36/100 [15:01<27:17, 25.59s/it]"
          ]
        },
        {
          "output_type": "stream",
          "name": "stdout",
          "text": [
            "Error 503: {\"error\":\"Service Unavailable\"}\n"
          ]
        },
        {
          "output_type": "stream",
          "name": "stderr",
          "text": [
            " 58%|█████▊    | 58/100 [25:47<18:49, 26.89s/it]"
          ]
        },
        {
          "output_type": "stream",
          "name": "stdout",
          "text": [
            "Error 503: {\"error\":\"Service Unavailable\"}\n"
          ]
        },
        {
          "output_type": "stream",
          "name": "stderr",
          "text": [
            " 75%|███████▌  | 75/100 [33:48<10:21, 24.86s/it]"
          ]
        },
        {
          "output_type": "stream",
          "name": "stdout",
          "text": [
            "Error 502: <html>\r\n",
            "<head><title>502 Bad Gateway</title></head>\r\n",
            "<body>\r\n",
            "<center><h1>502 Bad Gateway</h1></center>\r\n",
            "</body>\r\n",
            "</html>\r\n",
            "\n"
          ]
        },
        {
          "output_type": "stream",
          "name": "stderr",
          "text": [
            " 85%|████████▌ | 85/100 [38:51<06:26, 25.75s/it]"
          ]
        },
        {
          "output_type": "stream",
          "name": "stdout",
          "text": [
            "Error 503: {\"error\":\"Service Unavailable\"}\n"
          ]
        },
        {
          "output_type": "stream",
          "name": "stderr",
          "text": [
            "100%|██████████| 100/100 [45:39<00:00, 27.40s/it]\n"
          ]
        }
      ]
    },
    {
      "cell_type": "code",
      "source": [
        "num_reasoning_paths = list(range(5, 45, 5))\n",
        "self_consistency_accuracies = []\n",
        "greedy_accuracy = sum(greedy_answers[i] == answers[i] for i in range(len(greedy_answers))) / len(greedy_answers)\n",
        "# self-consistency using various number of reasoning paths\n",
        "for n in num_reasoning_paths:\n",
        "    self_consistency_final_answers = [marginalize_answer_counts(answers_list[:n]) for answers_list in self_consistency_answers]\n",
        "    print(self_consistency_final_answers)\n",
        "    accuracy = sum(self_consistency_final_answers[i] == answers[i] for i in range(len(self_consistency_final_answers))) / len(self_consistency_final_answers)\n",
        "    self_consistency_accuracies.append(accuracy)"
      ],
      "metadata": {
        "id": "1RAsiOb6lHfx",
        "colab": {
          "base_uri": "https://localhost:8080/"
        },
        "outputId": "64e4dd18-94d5-42c1-ead1-69109945c4ef"
      },
      "execution_count": 47,
      "outputs": [
        {
          "output_type": "stream",
          "name": "stdout",
          "text": [
            "['A', 'E', 'C', 'E', 'B', 'C', 'B', 'D', 'C', 'E', 'C', 'D', 'B', 'E', 'B', 'C', 'E', 'E', 'C', 'E', 'C', 'C', 'B', 'B', 'E', 'E', 'B', 'C', 'C', 'B', 'C', 'A', 'C', 'D', 'E', 'C', 'E', 'E', 'D', 'B', 'B', 'D', 'E', 'E', 'D', 'E', 'E', 'E', 'E', 'C', 'D', 'C', 'E', 'C', 'E', 'E', 'E', 'E', 'E', 'E', 'E', 'E', 'B', 'D', 'E', 'D', 'E', 'E', 'E', 'D', 'B', 'E', 'E', 'A', 'E', 'B', 'B', 'C', 'E', 'D', 'B', 'C', 'E', 'B', 'E', 'B', 'C', 'E', 'E', 'C', 'E', 'D', 'D', 'E', 'C', 'D', 'E', 'E', 'E', 'C']\n",
            "['A', 'E', 'B', 'E', 'E', 'C', 'B', 'D', 'C', 'E', 'B', 'D', 'B', 'E', 'C', 'D', 'E', 'A', 'C', 'E', 'E', 'C', 'E', 'C', 'E', 'E', 'B', 'C', 'D', 'C', 'C', 'B', 'E', 'D', 'E', 'E', 'E', 'E', 'E', 'B', 'B', 'D', 'E', 'E', 'D', 'E', 'E', 'E', 'E', 'C', 'D', 'B', 'E', 'E', 'E', 'E', 'B', 'E', 'D', 'E', 'C', 'E', 'B', 'D', 'E', 'E', 'E', 'C', 'E', 'D', 'E', 'C', 'E', 'A', 'C', 'B', 'B', 'D', 'E', 'D', 'B', 'D', 'E', 'A', 'E', 'B', 'E', 'E', 'E', 'C', 'E', 'D', 'D', 'E', 'C', 'D', 'E', 'C', 'E', 'C']\n",
            "['A', 'E', 'B', 'E', 'E', 'C', 'B', 'D', 'C', 'E', 'B', 'D', 'B', 'E', 'C', 'E', 'E', 'A', 'C', 'E', 'E', 'C', 'B', 'C', 'E', 'E', 'B', 'C', 'D', 'B', 'B', 'B', 'E', 'D', 'E', 'C', 'E', 'E', 'E', 'B', 'B', 'D', 'E', 'E', 'D', 'E', 'E', 'E', 'E', 'C', 'D', 'C', 'E', 'E', 'E', 'E', 'B', 'E', 'C', 'E', 'E', 'E', 'B', 'D', 'E', 'E', 'E', 'E', 'E', 'D', 'B', 'C', 'E', 'A', 'C', 'B', 'B', 'E', 'E', 'D', 'B', 'D', 'E', 'A', 'E', 'B', 'E', 'E', 'E', 'C', 'E', 'D', 'D', 'E', 'C', 'D', 'E', 'E', 'E', 'C']\n",
            "['A', 'E', 'B', 'E', 'E', 'C', 'B', 'E', 'C', 'E', 'E', 'D', 'B', 'E', 'C', 'E', 'E', 'A', 'C', 'E', 'E', 'C', 'E', 'E', 'E', 'D', 'B', 'C', 'E', 'B', 'B', 'B', 'E', 'D', 'E', 'C', 'E', 'E', 'E', 'B', 'B', 'D', 'E', 'E', 'D', 'E', 'E', 'E', 'E', 'C', 'E', 'C', 'E', 'E', 'E', 'E', 'B', 'E', 'C', 'E', 'E', 'E', 'B', 'D', 'E', 'E', 'E', 'C', 'E', 'D', 'B', 'C', 'E', 'A', 'C', 'B', 'B', 'E', 'E', 'D', 'B', 'E', 'E', 'A', 'E', 'B', 'E', 'E', 'E', 'C', 'E', 'D', 'D', 'E', 'C', 'D', 'E', 'E', 'E', 'C']\n",
            "['A', 'E', 'B', 'E', 'E', 'C', 'B', 'E', 'C', 'E', 'B', 'D', 'B', 'E', 'C', 'E', 'E', 'A', 'C', 'E', 'E', 'C', 'E', 'E', 'E', 'D', 'B', 'C', 'E', 'B', 'B', 'B', 'E', 'D', 'E', 'C', 'E', 'E', 'E', 'B', 'B', 'D', 'E', 'E', 'D', 'E', 'E', 'E', 'E', 'C', 'E', 'C', 'D', 'E', 'E', 'E', 'D', 'E', 'C', 'E', 'C', 'E', 'B', 'D', 'E', 'E', 'E', 'C', 'E', 'D', 'B', 'C', 'E', 'A', 'C', 'B', 'B', 'E', 'E', 'D', 'B', 'E', 'E', 'A', 'E', 'B', 'E', 'E', 'E', 'C', 'E', 'D', 'D', 'E', 'C', 'D', 'E', 'D', 'E', 'C']\n",
            "['A', 'E', 'C', 'E', 'E', 'C', 'B', 'E', 'C', 'E', 'B', 'D', 'B', 'E', 'C', 'E', 'E', 'A', 'C', 'E', 'E', 'C', 'E', 'E', 'E', 'D', 'B', 'C', 'E', 'C', 'B', 'A', 'E', 'D', 'E', 'E', 'E', 'E', 'E', 'B', 'B', 'D', 'E', 'E', 'D', 'E', 'E', 'E', 'C', 'C', 'E', 'C', 'D', 'E', 'E', 'E', 'A', 'E', 'C', 'E', 'C', 'E', 'B', 'D', 'E', 'E', 'E', 'C', 'E', 'D', 'B', 'C', 'E', 'A', 'C', 'B', 'B', 'E', 'B', 'D', 'B', 'E', 'E', 'A', 'E', 'B', 'E', 'E', 'E', 'C', 'E', 'D', 'D', 'E', 'C', 'D', 'E', 'D', 'E', 'C']\n",
            "['A', 'E', 'B', 'E', 'E', 'C', 'B', 'E', 'C', 'E', 'E', 'D', 'B', 'E', 'C', 'E', 'E', 'A', 'C', 'C', 'E', 'C', 'E', 'E', 'E', 'D', 'B', 'C', 'E', 'C', 'B', 'A', 'E', 'D', 'E', 'C', 'E', 'E', 'E', 'B', 'B', 'D', 'E', 'E', 'D', 'E', 'E', 'E', 'C', 'C', 'B', 'C', 'D', 'E', 'E', 'E', 'A', 'E', 'C', 'E', 'C', 'E', 'B', 'D', 'E', 'E', 'E', 'C', 'E', 'D', 'B', 'C', 'E', 'A', 'C', 'B', 'B', 'E', 'B', 'E', 'B', 'E', 'E', 'A', 'E', 'B', 'E', 'E', 'E', 'C', 'E', 'D', 'D', 'E', 'C', 'D', 'E', 'D', 'E', 'E']\n",
            "['A', 'E', 'B', 'E', 'E', 'C', 'B', 'E', 'C', 'E', 'E', 'D', 'B', 'E', 'C', 'D', 'E', 'A', 'C', 'E', 'E', 'C', 'B', 'E', 'E', 'D', 'B', 'C', 'E', 'C', 'B', 'A', 'E', 'D', 'E', 'E', 'E', 'E', 'E', 'B', 'B', 'D', 'E', 'E', 'D', 'E', 'E', 'E', 'C', 'C', 'B', 'C', 'D', 'E', 'E', 'E', 'A', 'E', 'C', 'E', 'C', 'E', 'B', 'D', 'D', 'E', 'E', 'C', 'E', 'D', 'B', 'C', 'E', 'A', 'C', 'B', 'B', 'E', 'B', 'E', 'B', 'D', 'E', 'A', 'E', 'B', 'E', 'E', 'E', 'C', 'E', 'D', 'D', 'E', 'C', 'D', 'E', 'C', 'E', 'E']\n"
          ]
        }
      ]
    },
    {
      "cell_type": "code",
      "source": [
        "plt.figure(figsize=(8, 5))\n",
        "plt.plot(num_reasoning_paths, self_consistency_accuracies, marker='o', linestyle='-', label=\"Self-Consistency Decoding\")\n",
        "plt.axhline(y=greedy_accuracy, color='orange', linestyle='-', label=\"Greedy Decoding\")\n",
        "\n",
        "# Labels and title\n",
        "plt.xlabel(\"Number of Reasoning Paths\")\n",
        "plt.ylabel(\"Accuracy\")\n",
        "plt.title(\"Accuracy vs. Number of Reasoning Paths\")\n",
        "plt.legend()\n",
        "plt.grid(True)\n",
        "\n",
        "# Show the plot\n",
        "plt.show()"
      ],
      "metadata": {
        "id": "jbKyPvS6xH_z",
        "colab": {
          "base_uri": "https://localhost:8080/",
          "height": 487
        },
        "outputId": "af290ba1-1e34-43e9-985f-26681253b04d"
      },
      "execution_count": 48,
      "outputs": [
        {
          "output_type": "display_data",
          "data": {
            "text/plain": [
              "<Figure size 800x500 with 1 Axes>"
            ],
            "image/png": "[encoded data removed]"
          },
          "metadata": {}
        }
      ]
    },
    {
      "cell_type": "markdown",
      "source": [
        "## One-shot self-consistency vs. few-shot CoT"
      ],
      "metadata": {
        "id": "fM6MMHqW2wfc"
      }
    },
    {
      "cell_type": "markdown",
      "source": [
        "We compare the performance of one-shot self-consistency versus few-shot CoT.\n",
        "\n",
        "The main motivation for this experiment is to determine whether self-consistency can compensate for the absence of a few exemplars. Removing a few exemplars, thus shortening the prompt length, can be particularly useful for self-consistency, as self-consistency involves running the same prompt multiple times. This is especially relevant in our setup, as we use the Hugging Face serverless inference API, which, unlike OpenAI's API, does not support [prompt caching](https://platform.openai.com/docs/guides/prompt-caching)."
      ],
      "metadata": {
        "id": "xr6OkIMt4Kc8"
      }
    },
    {
      "cell_type": "code",
      "source": [
        "CoT_prompts = [\n",
        "    \"Task: Answer the multiple choice question by first thinking through the question and then concluding with 'So the answer is x' where x is one of (a) (b) (c) (d) or (e)\",\n",
        "    \"Q: What do people use to absorb extra ink from a fountain pen? Answer Choices: (a) shirt pocket (b) calligrapher’s hand (c) inkwell (d) desk drawer (e) blotter\\nA: The answer must be an item that can absorb ink. Of the above choices, only blotters are used to absorb ink. So the answer is (e).\",\n",
        "    \"Q: What home entertainment equipment requires cable? Answer Choices: (a) radio shack (b) substation (c) television (d) cabinet\\nA: The answer must require cable. Of the above choices, only television requires cable. So the answer is (c).\",\n",
        "    \"Q: The fox walked from the city into the forest, what was it looking for? Answer Choices: (a) pretty flowers (b) hen house (c) natural habitat (d) storybook\\nA: The answer must be something in the forest. Of the above choices, only natural habitat is in the forest. So the answer is (b).\",\n",
        "]\n",
        "CoT_instruction = \"\\n\".join(CoT_prompts)\n",
        "self_consistency_instruction = \"\\n\".join(CoT_prompts[:2]) # only take the first exemplar"
      ],
      "metadata": {
        "id": "LCgQlR1bAjDf"
      },
      "execution_count": null,
      "outputs": []
    },
    {
      "cell_type": "code",
      "source": [
        "max_reasoning_paths = 40\n",
        "self_consistency_answers = []\n",
        "greedy_answers = []\n",
        "\n",
        "for question in tqdm(questions):\n",
        "    question_suffix = \"\\n\" + question + \"\\nA: \"\n",
        "    CoT_prompt = CoT_instruction + question_suffix\n",
        "    self_consistency_prompt = self_consistency_instruction + question_suffix\n",
        "\n",
        "    while True:\n",
        "        try:\n",
        "            greedy_result = greedy_decode(CoT_prompt)\n",
        "            greedy_answers.append(extract_answer(greedy_result[len(CoT_prompt):]))\n",
        "            break\n",
        "        except TypeError:\n",
        "            time.sleep(30)\n",
        "\n",
        "    while True:\n",
        "        try:\n",
        "            self_consistency_result = self_consistency_decode(self_consistency_prompt, max_reasoning_paths, parallelize=True)\n",
        "            self_consistency_answers.append(self_consistency_result)\n",
        "            break\n",
        "        except TypeError:\n",
        "            time.sleep(30)\n",
        "\n",
        "    time.sleep(random.randint(0,3)) # some delay between requests"
      ],
      "metadata": {
        "id": "1IBAYyYeA57W",
        "colab": {
          "base_uri": "https://localhost:8080/"
        },
        "outputId": "6a080dd5-1550-4e41-e755-aa87e17b3ed0"
      },
      "execution_count": null,
      "outputs": [
        {
          "output_type": "stream",
          "name": "stderr",
          "text": [
            "\r  0%|          | 0/100 [00:00<?, ?it/s]"
          ]
        },
        {
          "output_type": "stream",
          "name": "stdout",
          "text": [
            "Error 503: {\"error\":\"Service Unavailable\"}\n"
          ]
        },
        {
          "output_type": "stream",
          "name": "stderr",
          "text": [
            " 13%|█▎        | 13/100 [07:57<46:48, 32.28s/it]"
          ]
        },
        {
          "output_type": "stream",
          "name": "stdout",
          "text": [
            "Error 503: {\"error\":\"Service Unavailable\"}\n"
          ]
        },
        {
          "output_type": "stream",
          "name": "stderr",
          "text": [
            " 33%|███▎      | 33/100 [19:44<37:31, 33.60s/it]"
          ]
        },
        {
          "output_type": "stream",
          "name": "stdout",
          "text": [
            "Error 502: <html>\r\n",
            "<head><title>502 Bad Gateway</title></head>\r\n",
            "<body>\r\n",
            "<center><h1>502 Bad Gateway</h1></center>\r\n",
            "</body>\r\n",
            "</html>\r\n",
            "\n"
          ]
        },
        {
          "output_type": "stream",
          "name": "stderr",
          "text": [
            " 75%|███████▌  | 75/100 [42:16<12:35, 30.23s/it]"
          ]
        },
        {
          "output_type": "stream",
          "name": "stdout",
          "text": [
            "Error 503: {\"error\":\"Service Unavailable\"}\n"
          ]
        },
        {
          "output_type": "stream",
          "name": "stderr",
          "text": [
            " 97%|█████████▋| 97/100 [54:41<01:28, 29.38s/it]"
          ]
        },
        {
          "output_type": "stream",
          "name": "stdout",
          "text": [
            "Error 503: {\"error\":\"Service Unavailable\"}\n"
          ]
        },
        {
          "output_type": "stream",
          "name": "stderr",
          "text": [
            "100%|██████████| 100/100 [57:14<00:00, 34.35s/it]\n"
          ]
        }
      ]
    },
    {
      "cell_type": "code",
      "source": [
        "num_reasoning_paths = list(range(5, 45, 5))\n",
        "self_consistency_accuracies = []\n",
        "greedy_accuracy = sum(greedy_answers[i] == answers[i] for i in range(len(greedy_answers))) / len(greedy_answers)\n",
        "# self-consistency using various number of reasoning paths\n",
        "for n in num_reasoning_paths:\n",
        "    self_consistency_final_answers = [marginalize_answer_counts(answers_list[:n]) for answers_list in self_consistency_answers]\n",
        "    print(self_consistency_final_answers)\n",
        "    accuracy = sum(self_consistency_final_answers[i] == answers[i] for i in range(len(self_consistency_final_answers))) / len(self_consistency_final_answers)\n",
        "    self_consistency_accuracies.append(accuracy)"
      ],
      "metadata": {
        "id": "ha0oMayTA7uN",
        "colab": {
          "base_uri": "https://localhost:8080/"
        },
        "outputId": "bc0aff8f-022f-42a8-8c30-6840f65b7277"
      },
      "execution_count": null,
      "outputs": [
        {
          "output_type": "stream",
          "name": "stdout",
          "text": [
            "['A', 'A', 'E', 'E', 'E', 'D', 'B', 'D', 'D', 'A', 'E', 'E', 'B', 'E', 'E', 'D', 'E', 'E', 'B', 'E', 'C', 'C', 'D', 'E', 'E', 'D', 'B', 'D', 'B', 'C', 'A', 'A', 'E', 'D', 'E', 'D', 'D', 'E', 'E', 'D', 'B', 'B', 'E', 'E', 'D', 'E', 'E', 'E', 'E', 'C', 'E', 'E', 'C', 'E', 'E', 'E', 'E', 'E', 'E', 'E', 'E', 'D', 'C', 'D', 'A', 'A', 'E', 'E', 'A', 'D', 'B', 'B', 'E', 'E', 'C', 'A', 'C', 'E', 'B', 'D', 'D', 'C', 'E', 'E', 'E', 'E', 'C', 'D', 'A', 'C', 'E', 'C', 'E', 'E', 'B', 'E', 'E', 'B', 'E', 'E']\n",
            "['A', 'A', 'B', 'E', 'E', 'D', 'B', 'D', 'A', 'E', 'B', 'E', 'D', 'E', 'E', 'C', 'E', 'E', 'B', 'E', 'E', 'C', 'D', 'E', 'E', 'D', 'E', 'D', 'B', 'D', 'A', 'A', 'E', 'D', 'E', 'D', 'D', 'E', 'E', 'D', 'B', 'D', 'E', 'E', 'D', 'E', 'E', 'E', 'E', 'C', 'E', 'E', 'E', 'E', 'E', 'E', 'B', 'E', 'E', 'E', 'E', 'E', 'E', 'D', 'A', 'A', 'E', 'E', 'A', 'D', 'B', 'B', 'E', 'C', 'E', 'D', 'B', 'E', 'B', 'A', 'B', 'C', 'E', 'A', 'E', 'C', 'C', 'A', 'E', 'E', 'E', 'B', 'D', 'E', 'B', 'E', 'E', 'B', 'E', 'E']\n",
            "['A', 'A', 'B', 'C', 'E', 'D', 'B', 'D', 'A', 'E', 'E', 'D', 'B', 'E', 'E', 'C', 'E', 'E', 'E', 'E', 'E', 'C', 'D', 'E', 'E', 'D', 'E', 'D', 'B', 'D', 'A', 'A', 'E', 'D', 'E', 'E', 'E', 'E', 'E', 'D', 'B', 'D', 'E', 'E', 'D', 'E', 'E', 'E', 'E', 'C', 'B', 'E', 'B', 'E', 'D', 'E', 'B', 'E', 'E', 'E', 'E', 'E', 'E', 'D', 'A', 'A', 'E', 'E', 'A', 'D', 'B', 'B', 'E', 'C', 'E', 'D', 'C', 'E', 'B', 'A', 'B', 'C', 'E', 'A', 'E', 'A', 'C', 'A', 'E', 'C', 'E', 'C', 'D', 'E', 'C', 'E', 'E', 'E', 'E', 'E']\n",
            "['A', 'E', 'B', 'C', 'E', 'D', 'B', 'D', 'A', 'E', 'E', 'D', 'B', 'E', 'E', 'C', 'E', 'E', 'E', 'E', 'E', 'C', 'D', 'E', 'E', 'D', 'E', 'D', 'B', 'D', 'A', 'A', 'E', 'D', 'E', 'D', 'E', 'E', 'E', 'D', 'B', 'D', 'E', 'E', 'D', 'E', 'E', 'E', 'E', 'C', 'B', 'B', 'A', 'E', 'E', 'E', 'B', 'E', 'C', 'E', 'E', 'E', 'A', 'D', 'A', 'A', 'E', 'E', 'A', 'D', 'B', 'A', 'E', 'C', 'E', 'D', 'C', 'E', 'B', 'A', 'B', 'C', 'E', 'A', 'E', 'A', 'C', 'A', 'E', 'C', 'E', 'D', 'D', 'E', 'C', 'E', 'E', 'E', 'E', 'E']\n",
            "['A', 'E', 'B', 'C', 'E', 'E', 'B', 'D', 'A', 'E', 'E', 'D', 'B', 'E', 'C', 'C', 'E', 'E', 'E', 'E', 'E', 'C', 'A', 'E', 'E', 'D', 'E', 'A', 'B', 'D', 'A', 'A', 'E', 'D', 'E', 'D', 'E', 'E', 'E', 'C', 'B', 'D', 'E', 'E', 'D', 'E', 'E', 'E', 'E', 'C', 'E', 'B', 'A', 'E', 'E', 'E', 'B', 'E', 'E', 'E', 'E', 'E', 'E', 'D', 'A', 'A', 'E', 'E', 'E', 'D', 'B', 'C', 'E', 'C', 'E', 'D', 'C', 'E', 'B', 'A', 'B', 'D', 'E', 'A', 'E', 'A', 'C', 'A', 'E', 'C', 'E', 'D', 'D', 'E', 'C', 'E', 'E', 'E', 'E', 'E']\n",
            "['A', 'E', 'B', 'E', 'E', 'D', 'B', 'D', 'A', 'E', 'E', 'D', 'E', 'E', 'C', 'C', 'E', 'E', 'E', 'E', 'E', 'C', 'D', 'E', 'E', 'D', 'E', 'A', 'B', 'D', 'E', 'A', 'E', 'D', 'E', 'D', 'E', 'E', 'E', 'C', 'B', 'D', 'E', 'E', 'D', 'E', 'E', 'E', 'E', 'C', 'E', 'B', 'A', 'E', 'E', 'E', 'B', 'E', 'E', 'E', 'E', 'E', 'E', 'D', 'A', 'A', 'E', 'D', 'E', 'D', 'B', 'A', 'E', 'C', 'E', 'D', 'C', 'E', 'B', 'A', 'B', 'D', 'E', 'A', 'E', 'A', 'C', 'A', 'E', 'C', 'E', 'D', 'D', 'E', 'C', 'E', 'E', 'E', 'E', 'E']\n",
            "['A', 'E', 'B', 'C', 'E', 'D', 'B', 'D', 'A', 'E', 'E', 'D', 'E', 'E', 'C', 'C', 'E', 'E', 'E', 'E', 'E', 'C', 'D', 'E', 'E', 'D', 'E', 'C', 'B', 'D', 'A', 'A', 'E', 'D', 'E', 'D', 'E', 'E', 'E', 'C', 'B', 'D', 'E', 'E', 'D', 'E', 'E', 'E', 'E', 'C', 'E', 'B', 'A', 'E', 'E', 'E', 'B', 'E', 'E', 'E', 'E', 'E', 'A', 'D', 'A', 'A', 'E', 'E', 'E', 'D', 'B', 'C', 'E', 'C', 'E', 'D', 'C', 'E', 'B', 'A', 'B', 'D', 'E', 'A', 'E', 'A', 'C', 'A', 'E', 'C', 'E', 'D', 'D', 'E', 'C', 'E', 'E', 'E', 'E', 'E']\n",
            "['A', 'E', 'B', 'E', 'E', 'D', 'B', 'E', 'A', 'E', 'E', 'D', 'A', 'E', 'C', 'C', 'E', 'E', 'E', 'D', 'E', 'C', 'D', 'E', 'E', 'D', 'E', 'C', 'B', 'D', 'E', 'A', 'E', 'D', 'E', 'D', 'E', 'E', 'E', 'C', 'B', 'D', 'E', 'E', 'D', 'E', 'E', 'E', 'E', 'C', 'E', 'B', 'D', 'E', 'E', 'E', 'B', 'E', 'E', 'E', 'E', 'E', 'A', 'D', 'A', 'A', 'E', 'E', 'E', 'D', 'B', 'C', 'E', 'C', 'E', 'B', 'C', 'E', 'B', 'A', 'B', 'D', 'E', 'A', 'E', 'A', 'C', 'A', 'E', 'C', 'E', 'D', 'D', 'E', 'C', 'E', 'E', 'E', 'E', 'E']\n"
          ]
        }
      ]
    },
    {
      "cell_type": "code",
      "source": [
        "plt.figure(figsize=(8, 5))\n",
        "plt.plot(num_reasoning_paths, self_consistency_accuracies, marker='o', linestyle='-', label=\"One-Shot Self-Consistency Decoding\")\n",
        "plt.axhline(y=greedy_accuracy, color='orange', linestyle='-', label=\"Few-Shot CoT Greedy Decoding (3 Examples)\")\n",
        "\n",
        "# Labels and title\n",
        "plt.xlabel(\"Number of Reasoning Paths\")\n",
        "plt.ylabel(\"Accuracy\")\n",
        "plt.title(\"Accuracy vs. Number of Reasoning Paths\")\n",
        "plt.legend()\n",
        "plt.grid(True)\n",
        "\n",
        "# Show the plot\n",
        "plt.show()"
      ],
      "metadata": {
        "id": "5XcnVpFqBvMT",
        "colab": {
          "base_uri": "https://localhost:8080/",
          "height": 487
        },
        "outputId": "d8e6c27a-1783-4ae9-aa7f-4e93309e47e8"
      },
      "execution_count": null,
      "outputs": [
        {
          "output_type": "display_data",
          "data": {
            "text/plain": [
              "<Figure size 800x500 with 1 Axes>"
            ],
            "image/png": "[encoded data removed]"
          },
          "metadata": {}
        }
      ]
    }
  ]
}