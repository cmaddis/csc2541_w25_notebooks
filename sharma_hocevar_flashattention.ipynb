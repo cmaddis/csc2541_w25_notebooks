{
  "cells": [
    {
      "cell_type": "markdown",
      "metadata": {
        "id": "-YI8jcCgTriY"
      },
      "source": [
        "# Overview of FlashAttention I-O Awareness\n",
        "\n",
        "---\n",
        "**Authors: Daniel Hocevar and Raghav Sharma**\n",
        "\n",
        "This notebook contains a simulation of the expensive HBM GPU memory accesses across different three different ways of performing matrix multiplication : 1) standard matrix multiplication (no optimization), 2) matrix multiplication with tiling, and 3) low rank matrix multiplication with tiling (approximate solution). The notebook was created to present the I-O Awareness ideas used in the the paper \"FlashAttention: Fast and Memory-Efficient Exact Attention with IO-Awareness\" (https://arxiv.org/pdf/2205.14135). The layout of the notebook is as follows.\n",
        "\n",
        "0. **Simulation Code and Fixed Parameters**: Defines the LRUSram, GPUMemoryHandler, and MemoryArray classes. Also defines constants that will be used for the simulation, such as the matrix and cache sizes.\n",
        "* The *GPUMemoryHandler* class stores and keeps track of LRUSram accesses.\n",
        "* The *MemoryArray* class is wrapper around numpy array that works with the GPUMemoryHandler to keep track of LRUSram accesses.\n",
        "\n",
        "1. **Standard Matrix Multplication**: This section runs the simulation using standard matrix multiplication. This is the baseline which has the most hbm accesses.\n",
        "\n",
        "2. **Matrix Multiplication with Tiling**: This section runs the simulation using matrix multiplication with tiling. This has a considerably less number of hbm accesses compared to the standard matrix multiplication approach.\n",
        "\n",
        "3. **Low Rank Matrix Multiplication with Tiling**: This section runs the simulation using low rank matrix multiplication with tiling. This has the least number of hbm accesses but is an approximate solution. This is our original novelty, since it was not provided in the paper.\n",
        "\n",
        "4. **HBM Accesses for the 3 Matrix Multplication methods, for varying SRAM sizes**: This section sees how each matrix multiplication performs in terms of its hbm accesses as the SRAM sizes increases."
      ]
    },
    {
      "cell_type": "markdown",
      "metadata": {
        "id": "DA4Ic7ag9Nis"
      },
      "source": [
        "# 0. Simulation Code\n",
        "There are three classes defined here.\n",
        "1. LRUSram is the SRAM our GPU simulation will use. It uses the least recently used eviction policy and predefined capacity.\n",
        "2. GPUMemoryHandler keeps track of accesses to the LRUSram based on memory locations provided and updates the number of hbm accesses if a memory location was not already in the LRUSram.\n",
        "3. MemoryArray is a wrapper around a NumpyArray but helps faciliate memory location tracking"
      ]
    },
    {
      "cell_type": "code",
      "execution_count": 1,
      "metadata": {
        "id": "XbGPcxTdU9jh"
      },
      "outputs": [],
      "source": [
        "import numpy as np\n",
        "from collections import OrderedDict\n",
        "\n",
        "class LRUSram:\n",
        "    def __init__(self, capacity: int):\n",
        "        \"\"\"SRAM implemented based on the typical least recently used cache policy\n",
        "        \"\"\"\n",
        "        self.cache = OrderedDict()\n",
        "        self.capacity = capacity\n",
        "\n",
        "    def put(self, memory_locations) -> bool:\n",
        "        \"\"\"Puts the specified memory locations into the RAM. Evicts if the RAM\n",
        "        is full\n",
        "        \"\"\"\n",
        "        # check if first address is in\n",
        "        if (memory_locations[0] in self.cache):\n",
        "            return True\n",
        "\n",
        "        # not in so updating sram\n",
        "        for memory_location in reversed(memory_locations):\n",
        "            if (memory_location in self.cache):\n",
        "                self.cache.move_to_end(memory_location)  # Mark as recently used\n",
        "            else:\n",
        "                self.cache[memory_location] = True\n",
        "\n",
        "        while (len(self.cache) >= self.capacity):\n",
        "            self.cache.popitem(last=False)  # Remove LRU item\n",
        "\n",
        "        return False\n",
        "\n",
        "class GPUMemoryHandler:\n",
        "    def __init__(self, sram_size: int, locality_size: int):\n",
        "        \"\"\"Stores current memory locations in SRAM and how many hbm_accesses\n",
        "        there has been thus far\n",
        "        \"\"\"\n",
        "        self.sram = LRUSram(sram_size)\n",
        "        self.locality_size = locality_size\n",
        "        self.hbm_accesses = 0\n",
        "        self.memory_counter = 0\n",
        "        self.time = 0\n",
        "\n",
        "    def update_sram(self, memory_location: int) -> None:\n",
        "        \"\"\"Updates SRAM based on the provided memory_location and its neighboring\n",
        "        memory locations, determined by the locality size\n",
        "        \"\"\"\n",
        "        first_h = memory_location - self.locality_size // 2\n",
        "        second_h = self.locality_size // 2 + memory_location\n",
        "        memory_locations = [memory_location] + \\\n",
        "            [i for i in range(first_h, memory_location)] + \\\n",
        "            [i for i in range(memory_location + 1, second_h + 1)]\n",
        "        if (not self.sram.put(memory_locations)):\n",
        "            self.hbm_accesses += 1\n",
        "\n",
        "\n",
        "class MemoryArray:\n",
        "    # Wrapper class over numpy array to track HBM accesses\n",
        "    def __init__(self, data: np.array, memory_handler: GPUMemoryHandler):\n",
        "        \"\"\"Wrapper class over numpy array that stores corresponding memory\n",
        "        locations. Works with the GPUMemoryHandler to track memory accesses\n",
        "        \"\"\"\n",
        "        # Stores a numpy array and its corresponding memory locations based on\n",
        "        # the memory handler's memory counter\n",
        "        self.data = data\n",
        "        self.shape = self.data.shape\n",
        "        self.memory_locations = np.empty(data.shape, dtype=np.int32)\n",
        "        self.memory_handler = memory_handler\n",
        "        for i, j in np.ndindex(self.data.shape):\n",
        "            self.memory_locations[i][j] = self.memory_handler.memory_counter\n",
        "            self.memory_handler.memory_counter += 1\n",
        "\n",
        "    def __getitem__(self, indices):\n",
        "        \"\"\"Will check if the address is in SRAM and update accordingly\n",
        "        \"\"\"\n",
        "        if isinstance(indices, tuple) and len(indices) == 2:\n",
        "            row, col = indices\n",
        "            memory_location = self.memory_locations[row][col]\n",
        "            self.memory_handler.update_sram(memory_location)\n",
        "\n",
        "            return self.data[row][col]\n",
        "        else:\n",
        "            raise IndexError(\"Invalid number of indices, expected two.\")\n",
        "\n",
        "    def __setitem__(self, indices, value):\n",
        "        \"\"\"Will check if the address is in SRAM and update accordingly\n",
        "        \"\"\"\n",
        "        if isinstance(indices, tuple) and len(indices) == 2:\n",
        "            row, col = indices\n",
        "            memory_location = self.memory_locations[row][col]\n",
        "            self.memory_handler.update_sram(memory_location)\n",
        "\n",
        "            self.data[row][col] = value\n",
        "        else:\n",
        "            raise IndexError(\"Invalid number of indices, expected two.\")\n",
        "\n",
        "    def __str__(self):\n",
        "        return f\"{self.data}\"\n"
      ]
    },
    {
      "cell_type": "markdown",
      "metadata": {
        "id": "TrIS1eF_QwQY"
      },
      "source": [
        "# 0. Fixed Parameters\n",
        "\n",
        "First we set some fixed parameters that will be used to test the different matrix multiplication algorithms.\n",
        "\n",
        "We explicitly set integers N and d, corresponding to the matrix dimensions. Then using these dimensions, we generate random matrices A, B, and C, that will be used during matrix multiplication. In terms of GPU memory, we set the SRAM size, which indicates the maximum number of floating point numbers it can store. We also set the LOCALITY size, which indicates how many neighbouring elements in a matrix are cached, if an element is ever cache.\n",
        "\n",
        "\n",
        "\n",
        "In terms of flashattention, N and d represent the sequence length and head dimension respectively. A is an N by d matrix, which can represent the Query matrix. B is a d by N matrix, which can represent the transpose of the Key matrix. Their product is an N by N matrix, which can represent the intermediate product matrix before softmax is applied to it. The SRAM and LOCALITY represent the limited SRAM of the GPU and its caching properties.\n"
      ]
    },
    {
      "cell_type": "code",
      "execution_count": 2,
      "metadata": {
        "id": "_C_dHcMGR_Qs"
      },
      "outputs": [],
      "source": [
        "N = 50 # This can represent the sequence length\n",
        "d = 10 # This represents the embedding dimension\n",
        "\n",
        "A = np.random.rand(N, d) # This can represent the Query matrix\n",
        "B = np.random.rand(d, N) # This can represent the Key matrix transposed\n",
        "C = np.zeros((N, N)) # This can represent the intermediate S matrix\n",
        "\n",
        "SRAM_SIZE = 15\n",
        "LOCALITY_SIZE = 5"
      ]
    },
    {
      "cell_type": "markdown",
      "metadata": {
        "id": "8lihdZrVTHFn"
      },
      "source": [
        "# 1. Standard Matrix Multplication (baseline)\n",
        "This section contains the Standard Matrix Multplication (smm) code and its testing. Although the code is very short and simple, we will see that it leads to the most hbm accesses, which makes it very slow during execution.\n",
        "\n",
        "The image below shows the standard matrix multiplication approach iterates through the rows of the first matrix A, columns of the second matrix B, to compute the dot product entry of the matrix C.\n",
        "![Standard](https://siboehm.com/assets/img/MMM/Basic_MMM.png)"
      ]
    },
    {
      "cell_type": "code",
      "execution_count": 3,
      "metadata": {
        "id": "UqwgXUeyThIg"
      },
      "outputs": [],
      "source": [
        "# Simple matrix multiplication code\n",
        "def smm(A: MemoryArray, B: MemoryArray, C: MemoryArray):\n",
        "    additions = 0\n",
        "    for i in range(A.shape[0]):\n",
        "        for j in range(B.shape[1]):\n",
        "            for k in range(A.shape[1]):\n",
        "                C[i,j] += A[i,k] * B[k,j]\n",
        "                additions += 1"
      ]
    },
    {
      "cell_type": "code",
      "execution_count": 4,
      "metadata": {
        "colab": {
          "base_uri": "https://localhost:8080/"
        },
        "id": "5Y2-tv5CTl0T",
        "outputId": "d2979c15-288a-4c22-e19b-38a6e1ee9c87"
      },
      "outputs": [
        {
          "output_type": "stream",
          "name": "stdout",
          "text": [
            "smm hbm accesses are: 50001\n"
          ]
        }
      ],
      "source": [
        "# Running smm code on our randomly generated A, B, and C matrices\n",
        "smm_handler = GPUMemoryHandler(SRAM_SIZE, LOCALITY_SIZE)\n",
        "A_smm = MemoryArray(A.copy(), smm_handler)\n",
        "B_smm = MemoryArray(B.copy(), smm_handler)\n",
        "C_smm = MemoryArray(C.copy(), smm_handler)\n",
        "smm(A_smm, B_smm, C_smm)\n",
        "print(f\"smm hbm accesses are: {smm_handler.hbm_accesses}\")"
      ]
    },
    {
      "cell_type": "markdown",
      "metadata": {
        "id": "AQohoCQUTuvY"
      },
      "source": [
        "# 2. Matrix Multiplication with Tiling (Faster)\n",
        "This section contains the Matrix Multplication with tiling (mml) code and its testing. Here we will see that it leads to a siginficant reduction in hbm accesses, which makes it very fast in practice.\n",
        "\n",
        "The image below presents a detailed look into how tiling works in matrix multiplication.\n",
        "![Tiling](https://www.cs.sfu.ca/~ashriram/Courses/CS7ARCH/hw/hw4/gemm_tiled.png)\n"
      ]
    },
    {
      "cell_type": "code",
      "execution_count": 5,
      "metadata": {
        "id": "Gh7Fers3UKYe"
      },
      "outputs": [],
      "source": [
        "# Matrix multiplication with tiling code\n",
        "def mml(A: MemoryArray, B: MemoryArray, C: MemoryArray):\n",
        "    # Set a tile size based on the locality\n",
        "    tile_size = LOCALITY_SIZE\n",
        "\n",
        "    # Loop over the each row in A\n",
        "    for i in range(A.shape[0]):\n",
        "        # Loop over each tile\n",
        "        for tile in range(A.shape[1] // tile_size):\n",
        "            # Loop over each row in B\n",
        "            for j in range(B.shape[0]):\n",
        "                # Loop over each cell in the tile\n",
        "                for k in range(tile_size):\n",
        "                    C[i, j] += A[i, tile * tile_size + k] * B[tile * tile_size + k, j]"
      ]
    },
    {
      "cell_type": "code",
      "execution_count": 6,
      "metadata": {
        "colab": {
          "base_uri": "https://localhost:8080/"
        },
        "id": "g-BOCUUlUvjt",
        "outputId": "8006835e-a051-42be-996b-540fa3160685"
      },
      "outputs": [
        {
          "output_type": "stream",
          "name": "stdout",
          "text": [
            "mml hbm accesses are: 10600\n"
          ]
        }
      ],
      "source": [
        "# Running smm code on our randomly generated A, B, and C matrices\n",
        "mml_handler = GPUMemoryHandler(SRAM_SIZE, LOCALITY_SIZE)\n",
        "\n",
        "A_mml = MemoryArray(A.copy(), mml_handler)\n",
        "B_mml = MemoryArray(B.copy(), mml_handler)\n",
        "C_mml = MemoryArray(C.copy(), mml_handler)\n",
        "mml(A_mml, B_mml, C_mml)\n",
        "print(f\"mml hbm accesses are: {mml_handler.hbm_accesses}\")"
      ]
    },
    {
      "cell_type": "markdown",
      "metadata": {
        "id": "10heHoIPUR9U"
      },
      "source": [
        "# 3. Low Rank Matrix Multiplication with Tiling (Fastest but Approximate)\n",
        "This section contains the low-rank Matrix Multplication with tiling (lrmml) code and its testing. Here we will see that it leads to even more reductions in hbm accesses, which makes it more fast in practice. Though the downside is that this is an approximate solution. Note the flashattention paper did not provide an implementation/algorithm of this low-rank matrix multplication approach, we are providing this as an original novelty.\n",
        "\n",
        "The image below demonstrates how this approach works by decomposing a dense matrix into a two low rank products.\n",
        "\n",
        "![Low Rank Approximation](https://media.springernature.com/lw685/springer-static/image/art%3A10.1007%2Fs11227-020-03444-2/MediaObjects/11227_2020_3444_Fig1_HTML.png)"
      ]
    },
    {
      "cell_type": "code",
      "execution_count": 7,
      "metadata": {
        "id": "0KEu1gI1UWnF"
      },
      "outputs": [],
      "source": [
        "# Low rank matrix multiplication with tiling code\n",
        "def lrmml(A: MemoryArray, B: MemoryArray, C: MemoryArray, memory_handler):\n",
        "    # Define the low rank products\n",
        "    B_1 = MemoryArray(np.expand_dims(B.data[:, 0], axis=0), memory_handler) # B_1 is the first column of B for simplicity\n",
        "    B_2_T = MemoryArray(np.expand_dims(B.data[0], axis=0), memory_handler)  # B_2_T is the first row of B tranposed for simplicity\n",
        "    C_temp = MemoryArray(C.data, memory_handler)\n",
        "    # Set a tile size based on the locality\n",
        "    tile_size = LOCALITY_SIZE\n",
        "\n",
        "    # Multiply A and first low rank product\n",
        "    for i in range(A.shape[0]):\n",
        "        for tile in range(A.shape[1] // tile_size):\n",
        "            for j in range(B_1.shape[0]):\n",
        "                for k in range(tile_size):\n",
        "                    C_temp[i, j] += A[i, tile * tile_size + k] * B_1[(tile * tile_size + k) % B_1.shape[0], j + (tile * tile_size + k) // B_1.shape[0]]\n",
        "\n",
        "    # Multiply result with second low rank product to compute C\n",
        "    for i in range(C_temp.shape[0]):\n",
        "        for tile in range(C_temp.shape[1] // tile_size):\n",
        "            for j in range(B_2_T.shape[0]):\n",
        "                for k in range(tile_size):\n",
        "                    C[i, j] += C_temp[i, tile * tile_size + k] * B_2_T[(tile * tile_size + k) % B_2_T.shape[0], j + (tile * tile_size + k) // B_2_T.shape[0]]"
      ]
    },
    {
      "cell_type": "code",
      "execution_count": 8,
      "metadata": {
        "colab": {
          "base_uri": "https://localhost:8080/"
        },
        "id": "w4QADdPPUwny",
        "outputId": "f8a791c0-e2bb-410f-f116-63f1ac30ac00"
      },
      "outputs": [
        {
          "output_type": "stream",
          "name": "stdout",
          "text": [
            "lrmml hbm accesses are: 3100\n"
          ]
        }
      ],
      "source": [
        "# Running smm code on our randomly generated A, B, and C matrices\n",
        "lrmml_handler = GPUMemoryHandler(SRAM_SIZE, LOCALITY_SIZE)\n",
        "\n",
        "A_lrmml = MemoryArray(A.copy(), lrmml_handler)\n",
        "B_lrmml = MemoryArray(B.copy(), lrmml_handler)\n",
        "C_lrmml = MemoryArray(C.copy(), lrmml_handler)\n",
        "lrmml(A_lrmml, B_lrmml, C_lrmml, lrmml_handler)\n",
        "print(f\"lrmml hbm accesses are: {lrmml_handler.hbm_accesses}\")"
      ]
    },
    {
      "cell_type": "markdown",
      "metadata": {
        "id": "U2oH5maeU_dQ"
      },
      "source": [
        "# 4. HBM Accesses for the 3 Matrix Multplication methods, for varying SRAM sizes\n",
        "Finally for varying SRAM sizes, we plot how the hbm accesses change based on the matrix multiplication method we use. Note that as soon as the SRAM increases substantially, all the matrices' elements fit into the SRAM, and hence why we see the hbm accesses leveling off and becoming very small. Unfortunately in reality we do not have large amounts of SRAM because it is expensive to produce and there are phsyical limitations to how much we can have.\n",
        "\n"
      ]
    },
    {
      "cell_type": "code",
      "execution_count": 9,
      "metadata": {
        "colab": {
          "base_uri": "https://localhost:8080/",
          "height": 489
        },
        "id": "uWTwDa5UWJnw",
        "outputId": "74b022aa-0e45-463a-9b6a-ce23a67271a9"
      },
      "outputs": [
        {
          "output_type": "execute_result",
          "data": {
            "text/plain": [
              "Text(0, 0.5, 'HBM accesses')"
            ]
          },
          "metadata": {},
          "execution_count": 9
        },
        {
          "output_type": "display_data",
          "data": {
            "text/plain": [
              "<Figure size 640x480 with 1 Axes>"
            ],
            "image/png": "[encoded data removed]"
          },
          "metadata": {}
        }
      ],
      "source": [
        "from matplotlib import pyplot as plt\n",
        "sram_sizes = [x for x in range(15, 1500, 5)]\n",
        "\n",
        "smm_hbm_accesses = []\n",
        "for i in sram_sizes:\n",
        "    smm_handler = GPUMemoryHandler(i, LOCALITY_SIZE)\n",
        "    A_smm = MemoryArray(A.copy(), smm_handler)\n",
        "    B_smm = MemoryArray(B.copy(), smm_handler)\n",
        "    C_smm = MemoryArray(C.copy(), smm_handler)\n",
        "    smm(A_smm, B_smm, C_smm)\n",
        "    smm_hbm_accesses.append(smm_handler.hbm_accesses)\n",
        "\n",
        "\n",
        "mml_hbm_accesses = []\n",
        "for i in sram_sizes:\n",
        "    mml_handler = GPUMemoryHandler(i, LOCALITY_SIZE)\n",
        "    A_mml = MemoryArray(A.copy(), mml_handler)\n",
        "    B_mml = MemoryArray(B.copy(), mml_handler)\n",
        "    C_mml = MemoryArray(C.copy(), mml_handler)\n",
        "    mml(A_mml, B_mml, C_mml)\n",
        "    mml_hbm_accesses.append(mml_handler.hbm_accesses)\n",
        "\n",
        "lrmml_hbm_accesses = []\n",
        "for i in sram_sizes:\n",
        "    lrmml_handler = GPUMemoryHandler(i, LOCALITY_SIZE)\n",
        "    A_lrmml = MemoryArray(A.copy(), lrmml_handler)\n",
        "    B_lrmml = MemoryArray(B.copy(), lrmml_handler)\n",
        "    C_lrmml = MemoryArray(C.copy(), lrmml_handler)\n",
        "    lrmml(A_lrmml, B_lrmml, C_lrmml, lrmml_handler)\n",
        "    lrmml_hbm_accesses.append(lrmml_handler.hbm_accesses)\n",
        "\n",
        "\n",
        "plt.plot(sram_sizes, smm_hbm_accesses, label='Simple')\n",
        "plt.plot(sram_sizes, mml_hbm_accesses, label='Tiled')\n",
        "plt.plot(sram_sizes, lrmml_hbm_accesses, label='Low rank')\n",
        "plt.legend()\n",
        "plt.title(\"HBM accesses during matrix multiplication\")\n",
        "plt.xlabel(\"SRAM size\")\n",
        "plt.ylabel(\"HBM accesses\")\n"
      ]
    }
  ],
  "metadata": {
    "colab": {
      "provenance": []
    },
    "kernelspec": {
      "display_name": "Python 3",
      "name": "python3"
    },
    "language_info": {
      "name": "python"
    }
  },
  "nbformat": 4,
  "nbformat_minor": 0
}